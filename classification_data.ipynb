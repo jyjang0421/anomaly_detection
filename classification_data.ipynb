{
 "cells": [
  {
   "cell_type": "code",
   "execution_count": 2,
   "metadata": {},
   "outputs": [],
   "source": [
    "import pandas as pd\n",
    "import numpy as np\n",
    "from sklearn.preprocessing import MinMaxScaler\n",
    "from sklearn.model_selection import train_test_split"
   ]
  },
  {
   "cell_type": "code",
   "execution_count": 3,
   "metadata": {},
   "outputs": [],
   "source": [
    "# read\n",
    "analog = pd.read_excel('/home/ubuntu/tutorial_kyg/koiiadata/N_ANALOG_DATA_ETC_01_0037.xlsx')\n",
    "df_d = pd.read_excel('/home/ubuntu/tutorial_kyg/koiiadata/N_DIGITAL_DATA.xlsx')"
   ]
  },
  {
   "cell_type": "code",
   "execution_count": 4,
   "metadata": {},
   "outputs": [],
   "source": [
    "# digital data 전처리\n",
    "\n",
    "# dm_code 종류 오름차순\n",
    "dm_codes = sorted(list(set(df_d['dm_code'])))\n",
    "\n",
    "# 오류 코드별 분류\n",
    "groupbydm = dict()\n",
    "for i in dm_codes:\n",
    "    groupbydm[i] = df_d[df_d['dm_code']==i]\n",
    "\n",
    "dup_iloc = dict()\n",
    "for i in dm_codes:\n",
    "    temp = []\n",
    "    for j in range(1,len(groupbydm[i])):\n",
    "        if groupbydm[i].iloc[j-1]['value'] == groupbydm[i].iloc[j]['value']:\n",
    "            temp.append(j)\n",
    "    dup_iloc[i] = temp\n",
    "\n",
    "groupbydm_ = dict()\n",
    "temp = []\n",
    "for i in dm_codes:\n",
    "    for j in dup_iloc[i]:\n",
    "        temp.append(groupbydm[i].iloc[j-1].name)\n",
    "    groupbydm_[i] = groupbydm[i].drop(temp)\n",
    "    temp = []\n",
    "\n",
    "start1 = []\n",
    "for i in dm_codes:\n",
    "    if int(groupbydm_[i].head(1)['value']) == 0:\n",
    "        start1.append(i)\n",
    "for i in start1:\n",
    "    groupbydm_[i].drop(groupbydm_[i].head(1).index, inplace=True)\n",
    "    \n",
    "last1 = []\n",
    "for i in dm_codes:\n",
    "    if int(groupbydm_[i].tail(1)['value']) == 1:\n",
    "        last1.append(i)\n",
    "for i in last1:\n",
    "    groupbydm_[i].drop(groupbydm_[i].tail(1).index, inplace=True)\n",
    "\n",
    "# df_stop에 시작 시간에 맞춘 time_lapse 기록\n",
    "df_stop = dict()\n",
    "for i in dm_codes:\n",
    "    time_lapse = []\n",
    "    for j in range(0, len(groupbydm_[i]), 2):\n",
    "        time_lapse.append(groupbydm_[i].iloc[j+1]['create_time'] - groupbydm_[i].iloc[j]['create_time'])\n",
    "    df_stop[i] = groupbydm_[i][::2].copy()\n",
    "    df_stop[i]['time_lapse'] = time_lapse\n",
    "for i in dm_codes:\n",
    "    df_stop[i]['finish_time'] = list(groupbydm_[i][1::2]['create_time'])\n",
    "\n",
    "df_37stop = df_stop[dm_codes[132]]\n",
    "for i in range(133,160):\n",
    "    df_37stop = df_37stop.append(df_stop[dm_codes[i]])\n",
    "\n",
    "df_37stop.sort_index(inplace = True)"
   ]
  },
  {
   "cell_type": "code",
   "execution_count": 5,
   "metadata": {},
   "outputs": [],
   "source": [
    "# 아날로그 전처리\n",
    "\n",
    "analog = analog.dropna(axis=0)\n",
    "\n",
    "analog = analog.loc[:,(analog != 0).any(axis=0)]\n",
    "\n",
    "analog.reset_index(inplace=True)\n",
    "#모든 값 scaling\n",
    "scaler = MinMaxScaler()\n",
    "\n",
    "for i in analog.loc[:,'d10':]:\n",
    "    analog.loc[:,i] = scaler.fit_transform(analog[[i]])"
   ]
  },
  {
   "cell_type": "code",
   "execution_count": 6,
   "metadata": {},
   "outputs": [
    {
     "data": {
      "text/plain": [
       "(699, 10, 29)"
      ]
     },
     "metadata": {},
     "output_type": "display_data"
    }
   ],
   "source": [
    "# 이상 인풋데이터\n",
    "anomaly = []\n",
    "for i in df_37stop['create_time']:\n",
    "    idx = analog[analog['create_time']==i].index[0]\n",
    "    ls = []\n",
    "    for j in range(idx-25,idx-15):\n",
    "        ls.append(list(analog.iloc[j,9:]))\n",
    "    anomaly.append(ls)\n",
    "    ls = []\n",
    "    for j in range(idx-15,idx-5):\n",
    "        ls.append(list(analog.iloc[j,9:]))\n",
    "    anomaly.append(ls)\n",
    "    ls = []\n",
    "    for j in range(idx-5,idx+5):\n",
    "        ls.append(list(analog.iloc[j,9:]))\n",
    "    anomaly.append(ls)\n",
    "\n",
    "anom_arr = np.array(anomaly)\n",
    "display(anom_arr.shape)"
   ]
  },
  {
   "cell_type": "code",
   "execution_count": 7,
   "metadata": {},
   "outputs": [],
   "source": [
    "# 정상인 데이터만 모으기\n",
    "finish_time = []\n",
    "time_lapse = []\n",
    "for i,s in df_37stop.iterrows():\n",
    "    finish_time.append(s['finish_time'])\n",
    "    time_lapse.append(int(s['time_lapse'].total_seconds()))\n",
    "\n",
    "anom_time = []\n",
    "onesec = pd.to_timedelta(1, unit='S')\n",
    "\n",
    "for i in zip(finish_time, time_lapse):\n",
    "    ttmp = i[0] + onesec*300\n",
    "    anom_time.append(ttmp)\n",
    "    for i in range(600+i[1]):\n",
    "        ttmp = ttmp - onesec\n",
    "        anom_time.append(ttmp)\n",
    "\n",
    "anom_time = sorted(list(set(anom_time)))\n",
    "\n",
    "timeset = sorted(list(set(analog['create_time']) - set(anom_time)))\n",
    "normal = analog[analog['create_time'].isin(timeset)].loc[:,'d10':].to_numpy().tolist()"
   ]
  },
  {
   "cell_type": "code",
   "execution_count": 8,
   "metadata": {},
   "outputs": [
    {
     "name": "stdout",
     "output_type": "stream",
     "text": [
      "(15611, 10, 29)\n"
     ]
    }
   ],
   "source": [
    "# 정상 데이터\n",
    "norm = []\n",
    "idx = 0\n",
    "for i in df_37stop['create_time']:\n",
    "    for j in range(idx,len(timeset)):\n",
    "        if timeset[j] >= i:\n",
    "            norm.append(normal[idx:j-1])\n",
    "            idx = j\n",
    "            break\n",
    "\n",
    "#\n",
    "norm_list = []\n",
    "for i in norm:\n",
    "    for j in range(len(i)//10):\n",
    "        norm_list.append(i[j*10:(j+1)*10])\n",
    "\n",
    "norm_all = np.array(norm_list)\n",
    "print(norm_all.shape)"
   ]
  },
  {
   "cell_type": "code",
   "execution_count": 9,
   "metadata": {},
   "outputs": [
    {
     "data": {
      "text/plain": [
       "(699, 10, 29)"
      ]
     },
     "metadata": {},
     "output_type": "display_data"
    }
   ],
   "source": [
    "norm_arr = norm_all[::22][:699]\n",
    "display(norm_arr.shape)"
   ]
  },
  {
   "cell_type": "markdown",
   "metadata": {},
   "source": [
    "norm_arr -> 정상 인풋\n",
    "\n",
    "anom_arr -> 정지 인풋"
   ]
  },
  {
   "cell_type": "code",
   "execution_count": 95,
   "metadata": {},
   "outputs": [
    {
     "data": {
      "text/plain": [
       "(16310,)"
      ]
     },
     "execution_count": 95,
     "metadata": {},
     "output_type": "execute_result"
    }
   ],
   "source": [
    "y_ = np.concatenate((np.full(15611,0), np.full(699,1)), axis=0)\n",
    "y_.shape"
   ]
  },
  {
   "cell_type": "code",
   "execution_count": 94,
   "metadata": {},
   "outputs": [
    {
     "data": {
      "text/plain": [
       "(16310, 10, 29)"
      ]
     },
     "execution_count": 94,
     "metadata": {},
     "output_type": "execute_result"
    }
   ],
   "source": [
    "x_ = np.concatenate((norm_all, anom_arr), axis=0)\n",
    "x_.shape"
   ]
  },
  {
   "cell_type": "code",
   "execution_count": 10,
   "metadata": {},
   "outputs": [
    {
     "name": "stdout",
     "output_type": "stream",
     "text": [
      "(1398, 10, 29)\n"
     ]
    }
   ],
   "source": [
    "x = np.concatenate((norm_arr, anom_arr), axis=0)\n",
    "print(x.shape)"
   ]
  },
  {
   "cell_type": "code",
   "execution_count": 11,
   "metadata": {},
   "outputs": [
    {
     "name": "stdout",
     "output_type": "stream",
     "text": [
      "(1398,)\n"
     ]
    }
   ],
   "source": [
    "y = np.concatenate((np.full(699,0),np.full(699,1)))\n",
    "print(y.shape)"
   ]
  },
  {
   "cell_type": "code",
   "execution_count": 97,
   "metadata": {},
   "outputs": [],
   "source": [
    "x_train, x_test, y_train, y_test = train_test_split(x, y, test_size=0.2, random_state=42)"
   ]
  },
  {
   "cell_type": "code",
   "execution_count": 96,
   "metadata": {},
   "outputs": [],
   "source": [
    "x_train_, x_test_, y_train_, y_test_ = train_test_split(x_, y_, test_size=0.2, random_state=42)"
   ]
  },
  {
   "cell_type": "markdown",
   "metadata": {},
   "source": [
    "### 데이터 생성"
   ]
  },
  {
   "cell_type": "code",
   "execution_count": 12,
   "metadata": {},
   "outputs": [
    {
     "name": "stdout",
     "output_type": "stream",
     "text": [
      "(256, 10, 29)\n",
      "(256,)\n",
      "(16054, 10, 29)\n",
      "(16054,)\n"
     ]
    }
   ],
   "source": [
    "#test data 확보\n",
    "x_test_data = np.concatenate((norm_all[:100],anom_arr[:156]), axis=0)\n",
    "y_test_data = np.concatenate((np.full(100,0),np.full(156,1)))\n",
    "print(x_test_data.shape)\n",
    "print(y_test_data.shape)\n",
    "\n",
    "#전체 데이터(test data 제외) 합치고 target 데이터 생성\n",
    "all_data = np.concatenate((norm_all[100:], anom_arr[156:]), axis =0)\n",
    "print(all_data.shape)\n",
    "target_data = np.concatenate((np.full(15511,0),np.full(543,1)))\n",
    "print(target_data.shape)"
   ]
  },
  {
   "cell_type": "code",
   "execution_count": 13,
   "metadata": {
    "tags": []
   },
   "outputs": [
    {
     "data": {
      "text/plain": [
       "array([[0.00877193, 0.        , 1.        , 0.        , 1.        ,\n",
       "        0.        , 0.2       , 0.00612089, 0.5       , 1.        ,\n",
       "        0.        , 0.        , 0.        , 0.92857143, 0.        ,\n",
       "        0.02362205, 0.5       , 0.33333333, 1.        , 0.        ,\n",
       "        1.        , 0.5       , 0.25675676, 0.75      , 0.25617978,\n",
       "        0.22222222, 0.00404585, 0.8       , 0.760181  ],\n",
       "       [0.        , 0.        , 1.        , 0.        , 1.        ,\n",
       "        0.        , 0.2       , 0.00612089, 0.5       , 1.        ,\n",
       "        0.        , 0.        , 0.        , 0.92857143, 0.        ,\n",
       "        0.02362205, 0.5       , 0.33333333, 1.        , 0.        ,\n",
       "        1.        , 0.5       , 0.25675676, 0.75      , 0.25617978,\n",
       "        0.22222222, 0.00404585, 0.8       , 0.760181  ],\n",
       "       [0.00877193, 0.        , 1.        , 0.        , 1.        ,\n",
       "        0.        , 0.2       , 0.00612089, 0.5       , 1.        ,\n",
       "        0.        , 0.        , 0.        , 0.92857143, 0.        ,\n",
       "        0.02362205, 0.5       , 0.33333333, 1.        , 0.        ,\n",
       "        1.        , 0.5       , 0.25675676, 0.75      , 0.25617978,\n",
       "        0.22222222, 0.00404585, 0.8       , 0.760181  ],\n",
       "       [0.00877193, 0.        , 1.        , 0.        , 1.        ,\n",
       "        0.        , 0.2       , 0.00612089, 0.5       , 1.        ,\n",
       "        0.        , 0.        , 0.        , 0.92857143, 0.        ,\n",
       "        0.02362205, 0.5       , 0.33333333, 1.        , 0.        ,\n",
       "        1.        , 0.5       , 0.25675676, 0.75      , 0.25617978,\n",
       "        0.22222222, 0.00404585, 0.8       , 0.760181  ],\n",
       "       [0.        , 0.        , 1.        , 0.        , 1.        ,\n",
       "        0.        , 0.2       , 0.00612089, 0.5       , 1.        ,\n",
       "        0.        , 0.        , 0.        , 0.92857143, 0.        ,\n",
       "        0.02362205, 0.5       , 0.33333333, 1.        , 0.        ,\n",
       "        1.        , 0.5       , 0.25675676, 0.75      , 0.25617978,\n",
       "        0.22222222, 0.00404585, 0.8       , 0.760181  ],\n",
       "       [0.00877193, 0.        , 1.        , 0.        , 1.        ,\n",
       "        0.        , 0.2       , 0.00612089, 0.5       , 1.        ,\n",
       "        0.        , 0.        , 0.        , 0.92857143, 0.        ,\n",
       "        0.02362205, 0.5       , 0.33333333, 1.        , 0.        ,\n",
       "        1.        , 0.5       , 0.25675676, 0.75      , 0.25617978,\n",
       "        0.22222222, 0.00404585, 0.8       , 0.760181  ],\n",
       "       [0.00877193, 0.        , 1.        , 0.        , 1.        ,\n",
       "        0.        , 0.2       , 0.00612089, 0.5       , 1.        ,\n",
       "        0.        , 0.        , 0.        , 0.92857143, 0.        ,\n",
       "        0.02362205, 0.5       , 0.33333333, 1.        , 0.        ,\n",
       "        1.        , 0.5       , 0.25675676, 0.75      , 0.25617978,\n",
       "        0.22222222, 0.00404585, 0.8       , 0.760181  ],\n",
       "       [0.00877193, 0.        , 1.        , 0.        , 1.        ,\n",
       "        0.        , 0.2       , 0.00612089, 0.5       , 1.        ,\n",
       "        0.        , 0.        , 0.        , 0.92857143, 0.        ,\n",
       "        0.02362205, 0.5       , 0.33333333, 1.        , 0.        ,\n",
       "        1.        , 0.5       , 0.25675676, 0.75      , 0.25617978,\n",
       "        0.22222222, 0.00404585, 0.8       , 0.760181  ],\n",
       "       [0.        , 0.        , 1.        , 0.        , 1.        ,\n",
       "        0.        , 0.2       , 0.00612089, 0.5       , 1.        ,\n",
       "        0.        , 0.        , 0.        , 0.92857143, 0.        ,\n",
       "        0.02362205, 0.5       , 0.33333333, 1.        , 0.        ,\n",
       "        1.        , 0.5       , 0.25675676, 0.75      , 0.25617978,\n",
       "        0.22222222, 0.00404585, 0.8       , 0.760181  ],\n",
       "       [0.00877193, 0.        , 1.        , 0.        , 1.        ,\n",
       "        0.        , 0.2       , 0.00612089, 0.5       , 1.        ,\n",
       "        0.        , 0.        , 0.        , 0.92857143, 0.        ,\n",
       "        0.02362205, 0.5       , 0.33333333, 1.        , 0.        ,\n",
       "        1.        , 0.5       , 0.25675676, 0.75      , 0.25617978,\n",
       "        0.22222222, 0.00404585, 0.8       , 0.760181  ]])"
      ]
     },
     "execution_count": 13,
     "metadata": {},
     "output_type": "execute_result"
    }
   ],
   "source": [
    "all_data[0]"
   ]
  },
  {
   "cell_type": "markdown",
   "metadata": {},
   "source": [
    "### 1. SMOTE사용"
   ]
  },
  {
   "cell_type": "code",
   "execution_count": 14,
   "metadata": {},
   "outputs": [],
   "source": [
    "from imblearn.over_sampling import SMOTE\n",
    "from collections import Counter"
   ]
  },
  {
   "cell_type": "code",
   "execution_count": 15,
   "metadata": {},
   "outputs": [
    {
     "name": "stdout",
     "output_type": "stream",
     "text": [
      "The number of samples in TRAIN:  Counter({0: 155110, 1: 155110})\n"
     ]
    }
   ],
   "source": [
    "# oversample = SMOTE()\n",
    "# X, y = oversample.fit_resample(all_data, target_data)\n",
    "\n",
    "dim_1 = all_data.shape[0] #16054\n",
    "dim_2 = all_data.shape[1] #10\n",
    "dim_3 = all_data.shape[2] #29\n",
    "\n",
    "new_dim = dim_1 * dim_2\n",
    "#160540 * 29\n",
    "new_x_train = all_data.reshape(new_dim, dim_3)\n",
    "\n",
    "\n",
    "new_target_data = []\n",
    "#all_data 합친 만큰 target_data도 10개씩 target을 늘려줘야함\n",
    "for i in range(len(target_data)):\n",
    "    #print(target_data[i])\n",
    "    new_target_data.extend([target_data[i]]*dim_2)\n",
    "\n",
    "new_target_data = np.array(new_target_data)\n",
    "\n",
    "# transform the dataset\n",
    "oversample = SMOTE()\n",
    "X_Train, Y_Train = oversample.fit_resample(new_x_train, new_target_data)\n",
    "# summarize the new class distribution\n",
    "counter = Counter(Y_Train)\n",
    "print('The number of samples in TRAIN: ', counter)\n",
    "\n",
    "\n",
    "\n",
    "x_train_SMOTE = X_Train.reshape(int(X_Train.shape[0]/dim_2), dim_2, dim_3)\n",
    "\n",
    "y_train_SMOTE = []\n",
    "for i in range(int(X_Train.shape[0]/dim_2)):\n",
    "    # print(i)\n",
    "    value_list = list(Y_Train.reshape(int(X_Train.shape[0]/dim_2), dim_2)[i])\n",
    "    # print(list(set(value_list)))\n",
    "    y_train_SMOTE.extend(list(set(value_list)))\n",
    "    ## Check: if there is any different value in a list \n",
    "    if len(set(value_list)) != 1:\n",
    "        print('\\n\\n********* STOP: THERE IS SOMETHING WRONG IN TRAIN ******\\n\\n')\n",
    "y_train_SMOTE = np.array(y_train_SMOTE)"
   ]
  },
  {
   "cell_type": "code",
   "execution_count": 16,
   "metadata": {},
   "outputs": [
    {
     "name": "stdout",
     "output_type": "stream",
     "text": [
      "(31022, 10, 29) (31022,)\n",
      "(256, 10, 29) (256,)\n"
     ]
    }
   ],
   "source": [
    "print(x_train_SMOTE.shape, y_train_SMOTE.shape)\n",
    "print(x_test_data.shape, y_test_data.shape)"
   ]
  },
  {
   "cell_type": "code",
   "execution_count": 92,
   "metadata": {},
   "outputs": [
    {
     "data": {
      "text/plain": [
       "array([[0.00877193, 0.        , 1.        , 1.        , 0.        ,\n",
       "        0.33333333, 0.        , 0.00612089, 0.        , 0.        ,\n",
       "        0.        , 0.        , 0.        , 0.92857143, 0.        ,\n",
       "        0.04330709, 0.5       , 0.33333333, 0.        , 0.1       ,\n",
       "        1.        , 0.        , 0.26576577, 0.75      , 0.26741573,\n",
       "        0.22222222, 0.33917734, 0.8       , 0.67420814],\n",
       "       [0.        , 0.        , 1.        , 1.        , 0.        ,\n",
       "        0.33333333, 0.        , 0.00612089, 0.        , 0.        ,\n",
       "        0.        , 0.        , 0.        , 0.92857143, 0.        ,\n",
       "        0.04330709, 0.5       , 0.33333333, 0.        , 0.1       ,\n",
       "        1.        , 0.        , 0.26576577, 0.75      , 0.26741573,\n",
       "        0.22222222, 0.33917734, 0.8       , 0.67420814],\n",
       "       [0.00877193, 0.        , 1.        , 1.        , 0.        ,\n",
       "        0.33333333, 0.        , 0.00612089, 0.        , 0.        ,\n",
       "        0.        , 0.        , 0.        , 0.92857143, 0.        ,\n",
       "        0.04330709, 0.5       , 0.33333333, 0.        , 0.1       ,\n",
       "        1.        , 0.        , 0.26576577, 0.75      , 0.26741573,\n",
       "        0.22222222, 0.33917734, 0.8       , 0.67420814],\n",
       "       [0.00877193, 0.        , 1.        , 1.        , 0.        ,\n",
       "        0.33333333, 0.        , 0.00612089, 0.        , 0.        ,\n",
       "        0.        , 0.        , 0.        , 0.92857143, 0.        ,\n",
       "        0.04330709, 0.5       , 0.33333333, 0.        , 0.1       ,\n",
       "        1.        , 0.        , 0.26576577, 0.75      , 0.26741573,\n",
       "        0.22222222, 0.33917734, 0.8       , 0.67420814],\n",
       "       [0.        , 0.        , 1.        , 1.        , 0.        ,\n",
       "        0.33333333, 0.        , 0.00612089, 0.        , 0.        ,\n",
       "        0.        , 0.        , 0.        , 0.92857143, 0.        ,\n",
       "        0.04330709, 0.5       , 0.33333333, 0.        , 0.1       ,\n",
       "        1.        , 0.        , 0.26576577, 0.75      , 0.26741573,\n",
       "        0.22222222, 0.33917734, 0.8       , 0.67420814],\n",
       "       [0.00877193, 0.        , 1.        , 1.        , 0.        ,\n",
       "        0.33333333, 0.        , 0.00612089, 0.        , 0.        ,\n",
       "        0.        , 0.        , 0.        , 0.92857143, 0.        ,\n",
       "        0.04330709, 0.5       , 0.33333333, 0.        , 0.1       ,\n",
       "        1.        , 0.        , 0.26576577, 0.75      , 0.26741573,\n",
       "        0.22222222, 0.33917734, 0.8       , 0.67420814],\n",
       "       [0.00877193, 0.        , 1.        , 1.        , 0.        ,\n",
       "        0.33333333, 0.        , 0.00612089, 0.        , 0.        ,\n",
       "        0.        , 0.        , 0.        , 0.92857143, 0.        ,\n",
       "        0.04330709, 0.5       , 0.33333333, 0.        , 0.1       ,\n",
       "        1.        , 0.        , 0.26576577, 0.75      , 0.26741573,\n",
       "        0.22222222, 0.33917734, 0.8       , 0.67420814],\n",
       "       [0.00877193, 0.        , 1.        , 1.        , 0.        ,\n",
       "        0.33333333, 0.        , 0.00612089, 0.        , 0.        ,\n",
       "        0.        , 0.        , 0.        , 0.92857143, 0.        ,\n",
       "        0.04330709, 0.5       , 0.33333333, 0.        , 0.1       ,\n",
       "        1.        , 0.        , 0.26576577, 0.75      , 0.26741573,\n",
       "        0.22222222, 0.33917734, 0.8       , 0.67420814],\n",
       "       [0.00877193, 0.        , 1.        , 1.        , 0.        ,\n",
       "        0.33333333, 0.        , 0.00612089, 0.        , 0.        ,\n",
       "        0.        , 0.        , 0.        , 0.92857143, 0.        ,\n",
       "        0.04330709, 0.5       , 0.33333333, 0.        , 0.1       ,\n",
       "        1.        , 0.        , 0.26576577, 0.75      , 0.26741573,\n",
       "        0.22222222, 0.33917734, 0.8       , 0.67420814],\n",
       "       [0.00877193, 0.        , 1.        , 1.        , 0.        ,\n",
       "        0.33333333, 0.        , 0.00612089, 0.        , 0.        ,\n",
       "        0.        , 0.        , 0.        , 0.92857143, 0.        ,\n",
       "        0.04330709, 0.5       , 0.33333333, 0.        , 0.1       ,\n",
       "        1.        , 0.        , 0.26576577, 0.75      , 0.26741573,\n",
       "        0.22222222, 0.33917734, 0.8       , 0.67420814]])"
      ]
     },
     "execution_count": 92,
     "metadata": {},
     "output_type": "execute_result"
    }
   ],
   "source": [
    "x_train_SMOTE[10000]"
   ]
  },
  {
   "cell_type": "markdown",
   "metadata": {},
   "source": [
    "### 2. Borderline-SMOTE"
   ]
  },
  {
   "cell_type": "code",
   "execution_count": 17,
   "metadata": {},
   "outputs": [],
   "source": [
    "from imblearn.over_sampling import BorderlineSMOTE"
   ]
  },
  {
   "cell_type": "code",
   "execution_count": 18,
   "metadata": {},
   "outputs": [
    {
     "name": "stdout",
     "output_type": "stream",
     "text": [
      "The number of samples in TRAIN:  Counter({0: 155110, 1: 155110})\n"
     ]
    }
   ],
   "source": [
    "# transform the dataset\n",
    "oversample = BorderlineSMOTE()\n",
    "X_Train, Y_Train = oversample.fit_resample(new_x_train, new_target_data)\n",
    "# summarize the new class distribution\n",
    "counter = Counter(Y_Train)\n",
    "print('The number of samples in TRAIN: ', counter)\n",
    "\n",
    "\n",
    "\n",
    "x_train_B_SMOTE = X_Train.reshape(int(X_Train.shape[0]/dim_2), dim_2, dim_3)\n",
    "\n",
    "y_train_B_SMOTE = []\n",
    "for i in range(int(X_Train.shape[0]/dim_2)):\n",
    "    # print(i)\n",
    "    value_list = list(Y_Train.reshape(int(X_Train.shape[0]/dim_2), dim_2)[i])\n",
    "    # print(list(set(value_list)))\n",
    "    y_train_B_SMOTE.extend(list(set(value_list)))\n",
    "    ## Check: if there is any different value in a list \n",
    "    if len(set(value_list)) != 1:\n",
    "        print('\\n\\n********* STOP: THERE IS SOMETHING WRONG IN TRAIN ******\\n\\n')\n",
    "y_train_B_SMOTE = np.array(y_train_B_SMOTE)"
   ]
  },
  {
   "cell_type": "code",
   "execution_count": 25,
   "metadata": {},
   "outputs": [
    {
     "name": "stdout",
     "output_type": "stream",
     "text": [
      "(31022, 10, 29) (31022,)\n",
      "(256, 10, 29) (256,)\n"
     ]
    }
   ],
   "source": [
    "print(x_train_B_SMOTE.shape, y_train_B_SMOTE.shape)\n",
    "print(x_test_data.shape, y_test_data.shape)"
   ]
  },
  {
   "cell_type": "markdown",
   "metadata": {},
   "source": [
    "### 3. ADASYN"
   ]
  },
  {
   "cell_type": "code",
   "execution_count": 19,
   "metadata": {},
   "outputs": [],
   "source": [
    "from imblearn.over_sampling import ADASYN"
   ]
  },
  {
   "cell_type": "code",
   "execution_count": 37,
   "metadata": {},
   "outputs": [
    {
     "name": "stdout",
     "output_type": "stream",
     "text": [
      "The number of samples in TRAIN:  Counter({1: 155149, 0: 155110})\n"
     ]
    }
   ],
   "source": [
    "# transform the dataset\n",
    "oversample = ADASYN()\n",
    "X_Train, Y_Train = oversample.fit_resample(new_x_train, new_target_data)\n",
    "# summarize the new class distribution\n",
    "counter = Counter(Y_Train)\n",
    "print('The number of samples in TRAIN: ', counter)\n",
    "\n",
    "tmp2 = np.concatenate((Y_Train[:155110],Y_Train[155149:]))\n",
    "tmp = np.concatenate((X_Train[:155110],X_Train[155149:]))\n",
    "\n",
    "x_train_ADASYN = tmp.reshape(int(tmp.shape[0]/dim_2), dim_2, dim_3)\n",
    "\n",
    "y_train_ADASYN = []\n",
    "for i in range(int(tmp.shape[0]/dim_2)):\n",
    "    # print(i)\n",
    "    value_list = list(tmp2.reshape(int(tmp.shape[0]/dim_2), dim_2)[i])\n",
    "    # print(list(set(value_list)))\n",
    "    y_train_ADASYN.extend(list(set(value_list)))\n",
    "    ## Check: if there is any different value in a list \n",
    "    if len(set(value_list)) != 1:\n",
    "        print('\\n\\n********* STOP: THERE IS SOMETHING WRONG IN TRAIN ******\\n\\n')\n",
    "y_train_ADASYN = np.array(y_train_ADASYN)"
   ]
  },
  {
   "cell_type": "code",
   "execution_count": 38,
   "metadata": {},
   "outputs": [
    {
     "name": "stdout",
     "output_type": "stream",
     "text": [
      "(31022, 10, 29) (31022,)\n",
      "(256, 10, 29) (256,)\n",
      "The number of samples in TRAIN:  Counter({0: 15511, 1: 15511})\n"
     ]
    }
   ],
   "source": [
    "print(x_train_ADASYN.shape, y_train_ADASYN.shape)\n",
    "print(x_test_data.shape, y_test_data.shape)\n",
    "counter = Counter(y_train_ADASYN)\n",
    "print('The number of samples in TRAIN: ', counter)"
   ]
  },
  {
   "cell_type": "code",
   "execution_count": 39,
   "metadata": {},
   "outputs": [],
   "source": [
    "import tensorflow as tf\n",
    "\n",
    "from tensorflow.keras import layers\n",
    "from tensorflow.keras import losses\n",
    "from tensorflow.keras import preprocessing\n",
    "from tensorflow.keras import activations\n",
    "from tensorflow.keras.layers.experimental.preprocessing import TextVectorization\n",
    "from tensorflow.keras.callbacks import EarlyStopping, ModelCheckpoint, ReduceLROnPlateau, CSVLogger"
   ]
  },
  {
   "cell_type": "code",
   "execution_count": 53,
   "metadata": {},
   "outputs": [
    {
     "name": "stdout",
     "output_type": "stream",
     "text": [
      "Model: \"sequential_4\"\n",
      "_________________________________________________________________\n",
      "Layer (type)                 Output Shape              Param #   \n",
      "=================================================================\n",
      "dense_16 (Dense)             (None, 10, 128)           3840      \n",
      "_________________________________________________________________\n",
      "dropout_12 (Dropout)         (None, 10, 128)           0         \n",
      "_________________________________________________________________\n",
      "dense_17 (Dense)             (None, 10, 64)            8256      \n",
      "_________________________________________________________________\n",
      "dropout_13 (Dropout)         (None, 10, 64)            0         \n",
      "_________________________________________________________________\n",
      "dense_18 (Dense)             (None, 10, 32)            2080      \n",
      "_________________________________________________________________\n",
      "dropout_14 (Dropout)         (None, 10, 32)            0         \n",
      "_________________________________________________________________\n",
      "dense_19 (Dense)             (None, 10, 1)             33        \n",
      "=================================================================\n",
      "Total params: 14,209\n",
      "Trainable params: 14,209\n",
      "Non-trainable params: 0\n",
      "_________________________________________________________________\n"
     ]
    }
   ],
   "source": [
    "model = tf.keras.Sequential([\n",
    "          layers.Input(shape=(10,29)),\n",
    "          layers.Dense(128, activation='relu'),\n",
    "            layers.Dropout(0.4),\n",
    "          layers.Dense(64, activation='relu'),\n",
    "                layers.Dropout(0.5),\n",
    "            layers.Dense(32, activation='relu'),\n",
    "            layers.Dropout(0.6),\n",
    "\n",
    "          layers.Dense(1, activation=activations.sigmoid)])\n",
    "model.summary()\n",
    "# mc = ModelCheckpoint('speech_number.h5', save_best_only=True, monitor='val_loss', mode='min', verbose=1)\n",
    "opt = tf.keras.optimizers.Adam(learning_rate=0.0005)\n",
    "model.compile(\n",
    "    loss='binary_crossentropy', \n",
    "    optimizer=opt, \n",
    "    metrics=['accuracy'])\n",
    "callback = tf.keras.callbacks.EarlyStopping(monitor='loss', patience=3)"
   ]
  },
  {
   "cell_type": "markdown",
   "metadata": {},
   "source": [
    "# Smote Training"
   ]
  },
  {
   "cell_type": "code",
   "execution_count": 49,
   "metadata": {
    "collapsed": true,
    "jupyter": {
     "outputs_hidden": true
    },
    "tags": []
   },
   "outputs": [
    {
     "name": "stdout",
     "output_type": "stream",
     "text": [
      "Epoch 1/150\n",
      "776/776 [==============================] - 4s 4ms/step - loss: 0.4820 - accuracy: 0.7376 - val_loss: 0.3521 - val_accuracy: 0.8656\n",
      "Epoch 2/150\n",
      "776/776 [==============================] - 3s 4ms/step - loss: 0.3243 - accuracy: 0.8540 - val_loss: 0.3601 - val_accuracy: 0.8894\n",
      "Epoch 3/150\n",
      "776/776 [==============================] - 3s 4ms/step - loss: 0.2974 - accuracy: 0.8686 - val_loss: 0.3168 - val_accuracy: 0.8992\n",
      "Epoch 4/150\n",
      "776/776 [==============================] - 3s 4ms/step - loss: 0.2850 - accuracy: 0.8744 - val_loss: 0.2541 - val_accuracy: 0.9063\n",
      "Epoch 5/150\n",
      "776/776 [==============================] - 3s 4ms/step - loss: 0.2725 - accuracy: 0.8816 - val_loss: 0.2775 - val_accuracy: 0.9014\n",
      "Epoch 6/150\n",
      "776/776 [==============================] - 3s 4ms/step - loss: 0.2607 - accuracy: 0.8875 - val_loss: 0.2595 - val_accuracy: 0.9017\n",
      "Epoch 7/150\n",
      "776/776 [==============================] - 3s 4ms/step - loss: 0.2550 - accuracy: 0.8908 - val_loss: 0.2189 - val_accuracy: 0.9061\n",
      "Epoch 8/150\n",
      "776/776 [==============================] - 3s 4ms/step - loss: 0.2465 - accuracy: 0.8958 - val_loss: 0.2264 - val_accuracy: 0.9010\n",
      "Epoch 9/150\n",
      "776/776 [==============================] - 3s 4ms/step - loss: 0.2407 - accuracy: 0.8983 - val_loss: 0.2068 - val_accuracy: 0.9039\n",
      "Epoch 10/150\n",
      "776/776 [==============================] - 3s 4ms/step - loss: 0.2363 - accuracy: 0.8994 - val_loss: 0.2017 - val_accuracy: 0.9083\n",
      "Epoch 11/150\n",
      "776/776 [==============================] - 3s 4ms/step - loss: 0.2296 - accuracy: 0.9040 - val_loss: 0.2168 - val_accuracy: 0.9039\n",
      "Epoch 12/150\n",
      "776/776 [==============================] - 3s 4ms/step - loss: 0.2271 - accuracy: 0.9047 - val_loss: 0.1957 - val_accuracy: 0.9064\n",
      "Epoch 13/150\n",
      "776/776 [==============================] - 3s 4ms/step - loss: 0.2247 - accuracy: 0.9046 - val_loss: 0.2115 - val_accuracy: 0.9026\n",
      "Epoch 14/150\n",
      "776/776 [==============================] - 3s 4ms/step - loss: 0.2173 - accuracy: 0.9099 - val_loss: 0.2043 - val_accuracy: 0.9014\n",
      "Epoch 15/150\n",
      "776/776 [==============================] - 3s 4ms/step - loss: 0.2112 - accuracy: 0.9126 - val_loss: 0.2013 - val_accuracy: 0.9042\n",
      "Epoch 16/150\n",
      "776/776 [==============================] - 3s 4ms/step - loss: 0.2163 - accuracy: 0.9105 - val_loss: 0.1925 - val_accuracy: 0.9028\n",
      "Epoch 17/150\n",
      "776/776 [==============================] - 3s 4ms/step - loss: 0.2091 - accuracy: 0.9136 - val_loss: 0.2056 - val_accuracy: 0.9017\n",
      "Epoch 18/150\n",
      "776/776 [==============================] - 3s 4ms/step - loss: 0.2039 - accuracy: 0.9162 - val_loss: 0.2019 - val_accuracy: 0.9059\n",
      "Epoch 19/150\n",
      "776/776 [==============================] - 3s 4ms/step - loss: 0.2013 - accuracy: 0.9177 - val_loss: 0.1740 - val_accuracy: 0.9073\n",
      "Epoch 20/150\n",
      "776/776 [==============================] - 3s 4ms/step - loss: 0.2033 - accuracy: 0.9159 - val_loss: 0.1739 - val_accuracy: 0.9065\n",
      "Epoch 21/150\n",
      "776/776 [==============================] - 3s 4ms/step - loss: 0.1993 - accuracy: 0.9182 - val_loss: 0.1687 - val_accuracy: 0.9088\n",
      "Epoch 22/150\n",
      "776/776 [==============================] - 3s 4ms/step - loss: 0.1973 - accuracy: 0.9196 - val_loss: 0.1724 - val_accuracy: 0.9050\n",
      "Epoch 23/150\n",
      "776/776 [==============================] - 3s 4ms/step - loss: 0.1925 - accuracy: 0.9207 - val_loss: 0.1670 - val_accuracy: 0.9063\n",
      "Epoch 24/150\n",
      "776/776 [==============================] - 3s 4ms/step - loss: 0.1911 - accuracy: 0.9213 - val_loss: 0.1839 - val_accuracy: 0.9049\n",
      "Epoch 25/150\n",
      "776/776 [==============================] - 3s 4ms/step - loss: 0.1901 - accuracy: 0.9222 - val_loss: 0.1658 - val_accuracy: 0.9041\n",
      "Epoch 26/150\n",
      "776/776 [==============================] - 3s 4ms/step - loss: 0.1893 - accuracy: 0.9226 - val_loss: 0.1658 - val_accuracy: 0.9068\n",
      "Epoch 27/150\n",
      "776/776 [==============================] - 3s 4ms/step - loss: 0.1845 - accuracy: 0.9243 - val_loss: 0.1552 - val_accuracy: 0.9095\n",
      "Epoch 28/150\n",
      "776/776 [==============================] - 3s 4ms/step - loss: 0.1855 - accuracy: 0.9241 - val_loss: 0.1805 - val_accuracy: 0.9045\n",
      "Epoch 29/150\n",
      "776/776 [==============================] - 3s 4ms/step - loss: 0.1848 - accuracy: 0.9241 - val_loss: 0.1565 - val_accuracy: 0.9088\n",
      "Epoch 30/150\n",
      "776/776 [==============================] - 3s 4ms/step - loss: 0.1812 - accuracy: 0.9269 - val_loss: 0.1523 - val_accuracy: 0.9099\n",
      "Epoch 31/150\n",
      "776/776 [==============================] - 3s 4ms/step - loss: 0.1810 - accuracy: 0.9270 - val_loss: 0.1591 - val_accuracy: 0.9093\n",
      "Epoch 32/150\n",
      "776/776 [==============================] - 3s 4ms/step - loss: 0.1778 - accuracy: 0.9289 - val_loss: 0.1638 - val_accuracy: 0.9081\n",
      "Epoch 33/150\n",
      "776/776 [==============================] - 3s 4ms/step - loss: 0.1765 - accuracy: 0.9285 - val_loss: 0.1573 - val_accuracy: 0.9069\n",
      "Epoch 34/150\n",
      "776/776 [==============================] - 3s 4ms/step - loss: 0.1759 - accuracy: 0.9279 - val_loss: 0.1634 - val_accuracy: 0.9084\n",
      "Epoch 35/150\n",
      "776/776 [==============================] - 3s 4ms/step - loss: 0.1737 - accuracy: 0.9297 - val_loss: 0.1651 - val_accuracy: 0.9072\n",
      "Epoch 36/150\n",
      "776/776 [==============================] - 3s 4ms/step - loss: 0.1749 - accuracy: 0.9287 - val_loss: 0.1457 - val_accuracy: 0.9096\n",
      "Epoch 37/150\n",
      "776/776 [==============================] - 3s 4ms/step - loss: 0.1714 - accuracy: 0.9302 - val_loss: 0.1708 - val_accuracy: 0.9072\n",
      "Epoch 38/150\n",
      "776/776 [==============================] - 3s 4ms/step - loss: 0.1759 - accuracy: 0.9287 - val_loss: 0.1631 - val_accuracy: 0.9088\n",
      "Epoch 39/150\n",
      "776/776 [==============================] - 3s 4ms/step - loss: 0.1737 - accuracy: 0.9296 - val_loss: 0.1495 - val_accuracy: 0.9100\n",
      "Epoch 40/150\n",
      "776/776 [==============================] - 3s 4ms/step - loss: 0.1704 - accuracy: 0.9315 - val_loss: 0.1603 - val_accuracy: 0.9096\n",
      "Epoch 41/150\n",
      "776/776 [==============================] - 3s 4ms/step - loss: 0.1695 - accuracy: 0.9320 - val_loss: 0.1616 - val_accuracy: 0.9092\n",
      "Epoch 42/150\n",
      "776/776 [==============================] - 3s 4ms/step - loss: 0.1688 - accuracy: 0.9315 - val_loss: 0.1519 - val_accuracy: 0.9095\n",
      "Epoch 43/150\n",
      "776/776 [==============================] - 3s 4ms/step - loss: 0.1690 - accuracy: 0.9322 - val_loss: 0.1517 - val_accuracy: 0.9095\n",
      "Epoch 44/150\n",
      "776/776 [==============================] - 3s 4ms/step - loss: 0.1681 - accuracy: 0.9319 - val_loss: 0.1492 - val_accuracy: 0.9111\n",
      "Epoch 45/150\n",
      "776/776 [==============================] - 3s 4ms/step - loss: 0.1662 - accuracy: 0.9331 - val_loss: 0.1472 - val_accuracy: 0.9109\n",
      "Epoch 46/150\n",
      "776/776 [==============================] - 3s 4ms/step - loss: 0.1680 - accuracy: 0.9316 - val_loss: 0.1491 - val_accuracy: 0.9108\n",
      "Epoch 47/150\n",
      "776/776 [==============================] - 3s 4ms/step - loss: 0.1655 - accuracy: 0.9340 - val_loss: 0.1416 - val_accuracy: 0.9116\n",
      "Epoch 48/150\n",
      "776/776 [==============================] - 3s 4ms/step - loss: 0.1662 - accuracy: 0.9335 - val_loss: 0.1477 - val_accuracy: 0.9105\n",
      "Epoch 49/150\n",
      "776/776 [==============================] - 3s 4ms/step - loss: 0.1657 - accuracy: 0.9332 - val_loss: 0.1449 - val_accuracy: 0.9113\n",
      "Epoch 50/150\n",
      "776/776 [==============================] - 3s 4ms/step - loss: 0.1645 - accuracy: 0.9340 - val_loss: 0.1437 - val_accuracy: 0.9102\n",
      "Epoch 51/150\n",
      "776/776 [==============================] - 3s 4ms/step - loss: 0.1624 - accuracy: 0.9350 - val_loss: 0.1433 - val_accuracy: 0.9107\n",
      "Epoch 52/150\n",
      "776/776 [==============================] - 3s 4ms/step - loss: 0.1625 - accuracy: 0.9359 - val_loss: 0.1483 - val_accuracy: 0.9103\n",
      "Epoch 53/150\n",
      "776/776 [==============================] - 3s 4ms/step - loss: 0.1631 - accuracy: 0.9349 - val_loss: 0.1610 - val_accuracy: 0.9081\n",
      "Epoch 54/150\n",
      "776/776 [==============================] - 3s 4ms/step - loss: 0.1589 - accuracy: 0.9360 - val_loss: 0.1420 - val_accuracy: 0.9092\n",
      "Epoch 55/150\n",
      "776/776 [==============================] - 3s 4ms/step - loss: 0.1639 - accuracy: 0.9329 - val_loss: 0.1604 - val_accuracy: 0.9089\n",
      "Epoch 56/150\n",
      "776/776 [==============================] - 3s 4ms/step - loss: 0.1612 - accuracy: 0.9351 - val_loss: 0.1490 - val_accuracy: 0.9090\n",
      "Epoch 57/150\n",
      "776/776 [==============================] - 3s 4ms/step - loss: 0.1629 - accuracy: 0.9348 - val_loss: 0.1345 - val_accuracy: 0.9110\n",
      "Epoch 58/150\n",
      "776/776 [==============================] - 3s 4ms/step - loss: 0.1587 - accuracy: 0.9363 - val_loss: 0.1401 - val_accuracy: 0.9110\n",
      "Epoch 59/150\n",
      "776/776 [==============================] - 3s 4ms/step - loss: 0.1583 - accuracy: 0.9366 - val_loss: 0.1390 - val_accuracy: 0.9109\n",
      "Epoch 60/150\n",
      "776/776 [==============================] - 3s 4ms/step - loss: 0.1605 - accuracy: 0.9358 - val_loss: 0.1408 - val_accuracy: 0.9105\n",
      "Epoch 61/150\n",
      "776/776 [==============================] - 3s 4ms/step - loss: 0.1584 - accuracy: 0.9369 - val_loss: 0.1364 - val_accuracy: 0.9108\n",
      "Epoch 62/150\n",
      "776/776 [==============================] - 3s 4ms/step - loss: 0.1577 - accuracy: 0.9373 - val_loss: 0.1304 - val_accuracy: 0.9117\n",
      "Epoch 63/150\n",
      "776/776 [==============================] - 3s 4ms/step - loss: 0.1572 - accuracy: 0.9372 - val_loss: 0.1319 - val_accuracy: 0.9119\n",
      "Epoch 64/150\n",
      "776/776 [==============================] - 3s 4ms/step - loss: 0.1580 - accuracy: 0.9365 - val_loss: 0.1322 - val_accuracy: 0.9114\n",
      "Epoch 65/150\n",
      "776/776 [==============================] - 3s 4ms/step - loss: 0.1599 - accuracy: 0.9366 - val_loss: 0.1415 - val_accuracy: 0.9096\n",
      "Epoch 66/150\n",
      "776/776 [==============================] - 3s 4ms/step - loss: 0.1562 - accuracy: 0.9379 - val_loss: 0.1467 - val_accuracy: 0.9095\n",
      "Epoch 67/150\n",
      "776/776 [==============================] - 3s 4ms/step - loss: 0.1600 - accuracy: 0.9364 - val_loss: 0.1294 - val_accuracy: 0.9119\n"
     ]
    }
   ],
   "source": [
    "history = model.fit(x_train_SMOTE, y_train_SMOTE, validation_split=0.2, batch_size=32, epochs=150, callbacks=[callback])"
   ]
  },
  {
   "cell_type": "code",
   "execution_count": 52,
   "metadata": {},
   "outputs": [
    {
     "name": "stdout",
     "output_type": "stream",
     "text": [
      "\n",
      "# Evaluate on test data\n",
      "2/2 [==============================] - 0s 3ms/step - loss: 1.8253 - accuracy: 0.6512\n",
      "test loss, test acc: [1.825298547744751, 0.651171863079071]\n"
     ]
    }
   ],
   "source": [
    "print('\\n# Evaluate on test data')\n",
    "results = model.evaluate(x_test_data, y_test_data, batch_size=128)\n",
    "print('test loss, test acc:', results)"
   ]
  },
  {
   "cell_type": "code",
   "execution_count": 60,
   "metadata": {},
   "outputs": [],
   "source": [
    "import matplotlib.pyplot as plt"
   ]
  },
  {
   "cell_type": "code",
   "execution_count": 64,
   "metadata": {},
   "outputs": [
    {
     "data": {
      "image/png": "[encoded data removed]",
      "text/plain": [
       "<Figure size 432x288 with 1 Axes>"
      ]
     },
     "metadata": {
      "needs_background": "light"
     },
     "output_type": "display_data"
    }
   ],
   "source": [
    "plt.plot(history.history['accuracy'])\n",
    "plt.plot(history.history['val_accuracy'])\n",
    "plt.title('Model accuracy')\n",
    "plt.xlabel('Epoch')\n",
    "plt.ylabel('Accuracy')\n",
    "plt.legend(['Train', 'Validation'], loc='upper left')\n",
    "plt.show()"
   ]
  },
  {
   "cell_type": "code",
   "execution_count": 63,
   "metadata": {},
   "outputs": [
    {
     "data": {
      "image/png": "[encoded data removed]",
      "text/plain": [
       "<Figure size 432x288 with 1 Axes>"
      ]
     },
     "metadata": {
      "needs_background": "light"
     },
     "output_type": "display_data"
    }
   ],
   "source": [
    "# 7 훈련 과정 시각화 (손실)\n",
    "plt.plot(history.history['loss'])\n",
    "plt.plot(history.history['val_loss'])\n",
    "plt.title('Model loss')\n",
    "plt.xlabel('Epoch')\n",
    "plt.ylabel('Loss')\n",
    "plt.legend(['Train', 'Validation'], loc='upper left')\n",
    "plt.show()"
   ]
  },
  {
   "cell_type": "markdown",
   "metadata": {},
   "source": [
    "# Borderline Smote Training"
   ]
  },
  {
   "cell_type": "code",
   "execution_count": 66,
   "metadata": {
    "collapsed": true,
    "jupyter": {
     "outputs_hidden": true
    },
    "tags": []
   },
   "outputs": [
    {
     "name": "stdout",
     "output_type": "stream",
     "text": [
      "Epoch 1/150\n",
      "776/776 [==============================] - 4s 4ms/step - loss: 0.4525 - accuracy: 0.7733 - val_loss: 0.2651 - val_accuracy: 0.9809\n",
      "Epoch 2/150\n",
      "776/776 [==============================] - 3s 4ms/step - loss: 0.2684 - accuracy: 0.9000 - val_loss: 0.2462 - val_accuracy: 0.9832\n",
      "Epoch 3/150\n",
      "776/776 [==============================] - 3s 4ms/step - loss: 0.2465 - accuracy: 0.9093 - val_loss: 0.1772 - val_accuracy: 0.9928\n",
      "Epoch 4/150\n",
      "776/776 [==============================] - 3s 4ms/step - loss: 0.2318 - accuracy: 0.9150 - val_loss: 0.1639 - val_accuracy: 0.9928\n",
      "Epoch 5/150\n",
      "776/776 [==============================] - 3s 4ms/step - loss: 0.2207 - accuracy: 0.9201 - val_loss: 0.1826 - val_accuracy: 0.9924\n",
      "Epoch 6/150\n",
      "776/776 [==============================] - 3s 4ms/step - loss: 0.2157 - accuracy: 0.9222 - val_loss: 0.1607 - val_accuracy: 0.9935\n",
      "Epoch 7/150\n",
      "776/776 [==============================] - 3s 4ms/step - loss: 0.2065 - accuracy: 0.9258 - val_loss: 0.1744 - val_accuracy: 0.9868\n",
      "Epoch 8/150\n",
      "776/776 [==============================] - 3s 4ms/step - loss: 0.2050 - accuracy: 0.9274 - val_loss: 0.1308 - val_accuracy: 0.9931\n",
      "Epoch 9/150\n",
      "776/776 [==============================] - 3s 4ms/step - loss: 0.1963 - accuracy: 0.9313 - val_loss: 0.1381 - val_accuracy: 0.9914\n",
      "Epoch 10/150\n",
      "776/776 [==============================] - 3s 4ms/step - loss: 0.1855 - accuracy: 0.9363 - val_loss: 0.0991 - val_accuracy: 0.9964\n",
      "Epoch 11/150\n",
      "776/776 [==============================] - 3s 4ms/step - loss: 0.1836 - accuracy: 0.9366 - val_loss: 0.1157 - val_accuracy: 0.9943\n",
      "Epoch 12/150\n",
      "776/776 [==============================] - 3s 4ms/step - loss: 0.1791 - accuracy: 0.9391 - val_loss: 0.1026 - val_accuracy: 0.9957\n",
      "Epoch 13/150\n",
      "776/776 [==============================] - 3s 4ms/step - loss: 0.1758 - accuracy: 0.9393 - val_loss: 0.1063 - val_accuracy: 0.9948\n",
      "Epoch 14/150\n",
      "776/776 [==============================] - 3s 4ms/step - loss: 0.1650 - accuracy: 0.9441 - val_loss: 0.1220 - val_accuracy: 0.9921\n",
      "Epoch 15/150\n",
      "776/776 [==============================] - 3s 4ms/step - loss: 0.1666 - accuracy: 0.9431 - val_loss: 0.0946 - val_accuracy: 0.9959\n",
      "Epoch 16/150\n",
      "776/776 [==============================] - 3s 4ms/step - loss: 0.1645 - accuracy: 0.9451 - val_loss: 0.1056 - val_accuracy: 0.9946\n",
      "Epoch 17/150\n",
      "776/776 [==============================] - 3s 4ms/step - loss: 0.1594 - accuracy: 0.9468 - val_loss: 0.0809 - val_accuracy: 0.9955\n",
      "Epoch 18/150\n",
      "776/776 [==============================] - 3s 4ms/step - loss: 0.1630 - accuracy: 0.9473 - val_loss: 0.0922 - val_accuracy: 0.9946\n",
      "Epoch 19/150\n",
      "776/776 [==============================] - 3s 4ms/step - loss: 0.1532 - accuracy: 0.9494 - val_loss: 0.0820 - val_accuracy: 0.9974\n",
      "Epoch 20/150\n",
      "776/776 [==============================] - 3s 4ms/step - loss: 0.1476 - accuracy: 0.9511 - val_loss: 0.0678 - val_accuracy: 0.9973\n",
      "Epoch 21/150\n",
      "776/776 [==============================] - 3s 4ms/step - loss: 0.1472 - accuracy: 0.9523 - val_loss: 0.0782 - val_accuracy: 0.9956\n",
      "Epoch 22/150\n",
      "776/776 [==============================] - 3s 4ms/step - loss: 0.1451 - accuracy: 0.9532 - val_loss: 0.0789 - val_accuracy: 0.9967\n",
      "Epoch 23/150\n",
      "776/776 [==============================] - 3s 4ms/step - loss: 0.1474 - accuracy: 0.9519 - val_loss: 0.0606 - val_accuracy: 0.9978\n",
      "Epoch 24/150\n",
      "776/776 [==============================] - 3s 4ms/step - loss: 0.1439 - accuracy: 0.9536 - val_loss: 0.0652 - val_accuracy: 0.9967\n",
      "Epoch 25/150\n",
      "776/776 [==============================] - 3s 4ms/step - loss: 0.1424 - accuracy: 0.9546 - val_loss: 0.0668 - val_accuracy: 0.9966\n",
      "Epoch 26/150\n",
      "776/776 [==============================] - 3s 4ms/step - loss: 0.1402 - accuracy: 0.9549 - val_loss: 0.0593 - val_accuracy: 0.9976\n",
      "Epoch 27/150\n",
      "776/776 [==============================] - 3s 4ms/step - loss: 0.1367 - accuracy: 0.9568 - val_loss: 0.0651 - val_accuracy: 0.9973\n",
      "Epoch 28/150\n",
      "776/776 [==============================] - 3s 4ms/step - loss: 0.1315 - accuracy: 0.9583 - val_loss: 0.0615 - val_accuracy: 0.9970\n",
      "Epoch 29/150\n",
      "776/776 [==============================] - 3s 4ms/step - loss: 0.1348 - accuracy: 0.9572 - val_loss: 0.0482 - val_accuracy: 0.9976\n",
      "Epoch 30/150\n",
      "776/776 [==============================] - 3s 4ms/step - loss: 0.1322 - accuracy: 0.9584 - val_loss: 0.0527 - val_accuracy: 0.9969\n",
      "Epoch 31/150\n",
      "776/776 [==============================] - 3s 4ms/step - loss: 0.1320 - accuracy: 0.9591 - val_loss: 0.0599 - val_accuracy: 0.9973\n",
      "Epoch 32/150\n",
      "776/776 [==============================] - 3s 4ms/step - loss: 0.1269 - accuracy: 0.9609 - val_loss: 0.0436 - val_accuracy: 0.9980\n",
      "Epoch 33/150\n",
      "776/776 [==============================] - 3s 4ms/step - loss: 0.1231 - accuracy: 0.9617 - val_loss: 0.0406 - val_accuracy: 0.9981\n",
      "Epoch 34/150\n",
      "776/776 [==============================] - 3s 4ms/step - loss: 0.1277 - accuracy: 0.9606 - val_loss: 0.0513 - val_accuracy: 0.9971\n",
      "Epoch 35/150\n",
      "776/776 [==============================] - 3s 4ms/step - loss: 0.1271 - accuracy: 0.9609 - val_loss: 0.0512 - val_accuracy: 0.9972\n",
      "Epoch 36/150\n",
      "776/776 [==============================] - 3s 4ms/step - loss: 0.1238 - accuracy: 0.9621 - val_loss: 0.0517 - val_accuracy: 0.9971\n",
      "Epoch 37/150\n",
      "776/776 [==============================] - 3s 4ms/step - loss: 0.1242 - accuracy: 0.9616 - val_loss: 0.0446 - val_accuracy: 0.9979\n",
      "Epoch 38/150\n",
      "776/776 [==============================] - 3s 4ms/step - loss: 0.1201 - accuracy: 0.9630 - val_loss: 0.0475 - val_accuracy: 0.9980\n",
      "Epoch 39/150\n",
      "776/776 [==============================] - 3s 4ms/step - loss: 0.1172 - accuracy: 0.9638 - val_loss: 0.0364 - val_accuracy: 0.9979\n",
      "Epoch 40/150\n",
      "776/776 [==============================] - 3s 4ms/step - loss: 0.1182 - accuracy: 0.9643 - val_loss: 0.0481 - val_accuracy: 0.9977\n",
      "Epoch 41/150\n",
      "776/776 [==============================] - 3s 4ms/step - loss: 0.1178 - accuracy: 0.9643 - val_loss: 0.0366 - val_accuracy: 0.9986\n",
      "Epoch 42/150\n",
      "776/776 [==============================] - 3s 4ms/step - loss: 0.1167 - accuracy: 0.9638 - val_loss: 0.0432 - val_accuracy: 0.9977\n",
      "Epoch 43/150\n",
      "776/776 [==============================] - 3s 4ms/step - loss: 0.1111 - accuracy: 0.9662 - val_loss: 0.0405 - val_accuracy: 0.9983\n",
      "Epoch 44/150\n",
      "776/776 [==============================] - 3s 4ms/step - loss: 0.1147 - accuracy: 0.9651 - val_loss: 0.0383 - val_accuracy: 0.9976\n",
      "Epoch 45/150\n",
      "776/776 [==============================] - 3s 4ms/step - loss: 0.1133 - accuracy: 0.9660 - val_loss: 0.0472 - val_accuracy: 0.9974\n",
      "Epoch 46/150\n",
      "776/776 [==============================] - 3s 4ms/step - loss: 0.1111 - accuracy: 0.9658 - val_loss: 0.0419 - val_accuracy: 0.9982\n",
      "Epoch 47/150\n",
      "776/776 [==============================] - 3s 4ms/step - loss: 0.1108 - accuracy: 0.9659 - val_loss: 0.0455 - val_accuracy: 0.9980\n",
      "Epoch 48/150\n",
      "776/776 [==============================] - 3s 4ms/step - loss: 0.1107 - accuracy: 0.9666 - val_loss: 0.0364 - val_accuracy: 0.9974\n",
      "Epoch 49/150\n",
      "776/776 [==============================] - 3s 4ms/step - loss: 0.1123 - accuracy: 0.9661 - val_loss: 0.0428 - val_accuracy: 0.9977\n",
      "Epoch 50/150\n",
      "776/776 [==============================] - 3s 4ms/step - loss: 0.1091 - accuracy: 0.9675 - val_loss: 0.0372 - val_accuracy: 0.9978\n",
      "Epoch 51/150\n",
      "776/776 [==============================] - 3s 4ms/step - loss: 0.1111 - accuracy: 0.9671 - val_loss: 0.0366 - val_accuracy: 0.9978\n",
      "Epoch 52/150\n",
      "776/776 [==============================] - 3s 4ms/step - loss: 0.1033 - accuracy: 0.9695 - val_loss: 0.0377 - val_accuracy: 0.9980\n",
      "Epoch 53/150\n",
      "776/776 [==============================] - 3s 4ms/step - loss: 0.1056 - accuracy: 0.9682 - val_loss: 0.0369 - val_accuracy: 0.9977\n",
      "Epoch 54/150\n",
      "776/776 [==============================] - 3s 4ms/step - loss: 0.1017 - accuracy: 0.9693 - val_loss: 0.0385 - val_accuracy: 0.9982\n",
      "Epoch 55/150\n",
      "776/776 [==============================] - 3s 4ms/step - loss: 0.1080 - accuracy: 0.9681 - val_loss: 0.0405 - val_accuracy: 0.9975\n",
      "Epoch 56/150\n",
      "776/776 [==============================] - 3s 4ms/step - loss: 0.1045 - accuracy: 0.9696 - val_loss: 0.0353 - val_accuracy: 0.9982\n",
      "Epoch 57/150\n",
      "776/776 [==============================] - 3s 3ms/step - loss: 0.1045 - accuracy: 0.9688 - val_loss: 0.0355 - val_accuracy: 0.9979\n",
      "Epoch 58/150\n",
      "776/776 [==============================] - 3s 4ms/step - loss: 0.1040 - accuracy: 0.9694 - val_loss: 0.0342 - val_accuracy: 0.9967\n",
      "Epoch 59/150\n",
      "776/776 [==============================] - 3s 4ms/step - loss: 0.1041 - accuracy: 0.9696 - val_loss: 0.0277 - val_accuracy: 0.9984\n",
      "Epoch 60/150\n",
      "776/776 [==============================] - 3s 4ms/step - loss: 0.1023 - accuracy: 0.9701 - val_loss: 0.0450 - val_accuracy: 0.9959\n",
      "Epoch 61/150\n",
      "776/776 [==============================] - 3s 4ms/step - loss: 0.1031 - accuracy: 0.9694 - val_loss: 0.0435 - val_accuracy: 0.9976\n",
      "Epoch 62/150\n",
      "776/776 [==============================] - 3s 4ms/step - loss: 0.1047 - accuracy: 0.9687 - val_loss: 0.0299 - val_accuracy: 0.9981\n",
      "Epoch 63/150\n",
      "776/776 [==============================] - 3s 4ms/step - loss: 0.1036 - accuracy: 0.9694 - val_loss: 0.0271 - val_accuracy: 0.9985\n",
      "Epoch 64/150\n",
      "776/776 [==============================] - 3s 4ms/step - loss: 0.1038 - accuracy: 0.9694 - val_loss: 0.0242 - val_accuracy: 0.9983\n",
      "Epoch 65/150\n",
      "776/776 [==============================] - 3s 4ms/step - loss: 0.1005 - accuracy: 0.9699 - val_loss: 0.0376 - val_accuracy: 0.9980\n",
      "Epoch 66/150\n",
      "776/776 [==============================] - 3s 4ms/step - loss: 0.1023 - accuracy: 0.9694 - val_loss: 0.0342 - val_accuracy: 0.9977\n",
      "Epoch 67/150\n",
      "776/776 [==============================] - 3s 4ms/step - loss: 0.1043 - accuracy: 0.9688 - val_loss: 0.0247 - val_accuracy: 0.9984\n",
      "Epoch 68/150\n",
      "776/776 [==============================] - 3s 4ms/step - loss: 0.0990 - accuracy: 0.9707 - val_loss: 0.0407 - val_accuracy: 0.9983\n",
      "Epoch 69/150\n",
      "776/776 [==============================] - 3s 4ms/step - loss: 0.0983 - accuracy: 0.9716 - val_loss: 0.0456 - val_accuracy: 0.9967\n",
      "Epoch 70/150\n",
      "776/776 [==============================] - 3s 4ms/step - loss: 0.0988 - accuracy: 0.9712 - val_loss: 0.0275 - val_accuracy: 0.9985\n",
      "Epoch 71/150\n",
      "776/776 [==============================] - 3s 4ms/step - loss: 0.0981 - accuracy: 0.9718 - val_loss: 0.0302 - val_accuracy: 0.9980\n",
      "Epoch 72/150\n",
      "776/776 [==============================] - 3s 4ms/step - loss: 0.0971 - accuracy: 0.9710 - val_loss: 0.0263 - val_accuracy: 0.9982\n",
      "Epoch 73/150\n",
      "776/776 [==============================] - 3s 4ms/step - loss: 0.0956 - accuracy: 0.9720 - val_loss: 0.0239 - val_accuracy: 0.9982\n",
      "Epoch 74/150\n",
      "776/776 [==============================] - 3s 4ms/step - loss: 0.0968 - accuracy: 0.9715 - val_loss: 0.0304 - val_accuracy: 0.9975\n",
      "Epoch 75/150\n",
      "776/776 [==============================] - 3s 4ms/step - loss: 0.0983 - accuracy: 0.9720 - val_loss: 0.0319 - val_accuracy: 0.9970\n",
      "Epoch 76/150\n",
      "776/776 [==============================] - 3s 4ms/step - loss: 0.0961 - accuracy: 0.9721 - val_loss: 0.0272 - val_accuracy: 0.9983\n"
     ]
    }
   ],
   "source": [
    "history = model.fit(x_train_B_SMOTE, y_train_B_SMOTE, validation_split=0.2, batch_size=32, epochs=150, callbacks=[callback])"
   ]
  },
  {
   "cell_type": "code",
   "execution_count": 67,
   "metadata": {},
   "outputs": [
    {
     "name": "stdout",
     "output_type": "stream",
     "text": [
      "\n",
      "# Evaluate on test data\n",
      "2/2 [==============================] - 0s 3ms/step - loss: 1.7801 - accuracy: 0.5836\n",
      "test loss, test acc: [1.7800867557525635, 0.5835937261581421]\n"
     ]
    }
   ],
   "source": [
    "print('\\n# Evaluate on test data')\n",
    "results = model.evaluate(x_test_data, y_test_data, batch_size=128)\n",
    "print('test loss, test acc:', results)"
   ]
  },
  {
   "cell_type": "code",
   "execution_count": 68,
   "metadata": {},
   "outputs": [
    {
     "data": {
      "image/png": "[encoded data removed]",
      "text/plain": [
       "<Figure size 432x288 with 1 Axes>"
      ]
     },
     "metadata": {
      "needs_background": "light"
     },
     "output_type": "display_data"
    }
   ],
   "source": [
    "plt.plot(history.history['accuracy'])\n",
    "plt.plot(history.history['val_accuracy'])\n",
    "plt.title('Model accuracy')\n",
    "plt.xlabel('Epoch')\n",
    "plt.ylabel('Accuracy')\n",
    "plt.legend(['Train', 'Validation'], loc='upper left')\n",
    "plt.show()"
   ]
  },
  {
   "cell_type": "code",
   "execution_count": 69,
   "metadata": {},
   "outputs": [
    {
     "data": {
      "image/png": "[encoded data removed]",
      "text/plain": [
       "<Figure size 432x288 with 1 Axes>"
      ]
     },
     "metadata": {
      "needs_background": "light"
     },
     "output_type": "display_data"
    }
   ],
   "source": [
    "# 7 훈련 과정 시각화 (손실)\n",
    "plt.plot(history.history['loss'])\n",
    "plt.plot(history.history['val_loss'])\n",
    "plt.title('Model loss')\n",
    "plt.xlabel('Epoch')\n",
    "plt.ylabel('Loss')\n",
    "plt.legend(['Train', 'Validation'], loc='upper left')\n",
    "plt.show()"
   ]
  },
  {
   "cell_type": "markdown",
   "metadata": {},
   "source": [
    "# Adasyn Training"
   ]
  },
  {
   "cell_type": "code",
   "execution_count": 83,
   "metadata": {
    "collapsed": true,
    "jupyter": {
     "outputs_hidden": true
    },
    "tags": []
   },
   "outputs": [
    {
     "name": "stdout",
     "output_type": "stream",
     "text": [
      "Epoch 1/30\n",
      "776/776 [==============================] - 3s 4ms/step - loss: 0.1343 - accuracy: 0.9518 - val_loss: 2.1926 - val_accuracy: 0.3005\n",
      "Epoch 2/30\n",
      "776/776 [==============================] - 3s 4ms/step - loss: 0.1171 - accuracy: 0.9574 - val_loss: 2.2913 - val_accuracy: 0.3028\n",
      "Epoch 3/30\n",
      "776/776 [==============================] - 3s 4ms/step - loss: 0.1134 - accuracy: 0.9585 - val_loss: 2.1793 - val_accuracy: 0.3031\n",
      "Epoch 4/30\n",
      "776/776 [==============================] - 3s 4ms/step - loss: 0.1124 - accuracy: 0.9591 - val_loss: 1.8484 - val_accuracy: 0.2968\n",
      "Epoch 5/30\n",
      "776/776 [==============================] - 3s 4ms/step - loss: 0.1117 - accuracy: 0.9594 - val_loss: 2.5541 - val_accuracy: 0.2958\n",
      "Epoch 6/30\n",
      "776/776 [==============================] - 3s 4ms/step - loss: 0.1107 - accuracy: 0.9595 - val_loss: 2.0873 - val_accuracy: 0.2883\n",
      "Epoch 7/30\n",
      "776/776 [==============================] - 3s 4ms/step - loss: 0.1113 - accuracy: 0.9602 - val_loss: 2.3481 - val_accuracy: 0.3022\n",
      "Epoch 8/30\n",
      "776/776 [==============================] - 3s 4ms/step - loss: 0.1095 - accuracy: 0.9604 - val_loss: 2.2973 - val_accuracy: 0.3021\n",
      "Epoch 9/30\n",
      "776/776 [==============================] - 3s 4ms/step - loss: 0.1086 - accuracy: 0.9607 - val_loss: 1.8783 - val_accuracy: 0.3075\n",
      "Epoch 10/30\n",
      "776/776 [==============================] - 3s 4ms/step - loss: 0.1108 - accuracy: 0.9597 - val_loss: 1.9634 - val_accuracy: 0.2879\n",
      "Epoch 11/30\n",
      "776/776 [==============================] - 3s 4ms/step - loss: 0.1094 - accuracy: 0.9605 - val_loss: 1.8741 - val_accuracy: 0.2921\n",
      "Epoch 12/30\n",
      "776/776 [==============================] - 3s 4ms/step - loss: 0.1090 - accuracy: 0.9608 - val_loss: 1.8333 - val_accuracy: 0.3030\n",
      "Epoch 13/30\n",
      "776/776 [==============================] - 3s 4ms/step - loss: 0.1079 - accuracy: 0.9607 - val_loss: 2.2483 - val_accuracy: 0.2954\n",
      "Epoch 14/30\n",
      "776/776 [==============================] - 3s 4ms/step - loss: 0.1087 - accuracy: 0.9603 - val_loss: 2.4999 - val_accuracy: 0.3040\n",
      "Epoch 15/30\n",
      "776/776 [==============================] - 3s 4ms/step - loss: 0.1076 - accuracy: 0.9612 - val_loss: 1.9705 - val_accuracy: 0.3029\n",
      "Epoch 16/30\n",
      "776/776 [==============================] - 3s 4ms/step - loss: 0.1072 - accuracy: 0.9609 - val_loss: 2.2953 - val_accuracy: 0.3039\n",
      "Epoch 17/30\n",
      "776/776 [==============================] - 3s 4ms/step - loss: 0.1065 - accuracy: 0.9615 - val_loss: 1.8240 - val_accuracy: 0.3052\n",
      "Epoch 18/30\n",
      "776/776 [==============================] - 3s 4ms/step - loss: 0.1067 - accuracy: 0.9612 - val_loss: 2.0477 - val_accuracy: 0.3014\n",
      "Epoch 19/30\n",
      "776/776 [==============================] - 3s 4ms/step - loss: 0.1063 - accuracy: 0.9615 - val_loss: 2.1466 - val_accuracy: 0.3005\n",
      "Epoch 20/30\n",
      "776/776 [==============================] - 3s 4ms/step - loss: 0.1057 - accuracy: 0.9618 - val_loss: 2.2398 - val_accuracy: 0.3042\n",
      "Epoch 21/30\n",
      "776/776 [==============================] - 3s 4ms/step - loss: 0.1064 - accuracy: 0.9613 - val_loss: 2.0644 - val_accuracy: 0.3049\n",
      "Epoch 22/30\n",
      "776/776 [==============================] - 3s 4ms/step - loss: 0.1070 - accuracy: 0.9614 - val_loss: 2.2628 - val_accuracy: 0.2959\n",
      "Epoch 23/30\n",
      "776/776 [==============================] - 3s 4ms/step - loss: 0.1065 - accuracy: 0.9612 - val_loss: 1.9314 - val_accuracy: 0.2986\n",
      "Epoch 24/30\n",
      "776/776 [==============================] - 3s 4ms/step - loss: 0.1056 - accuracy: 0.9617 - val_loss: 2.0954 - val_accuracy: 0.2984\n",
      "Epoch 25/30\n",
      "776/776 [==============================] - 3s 4ms/step - loss: 0.1061 - accuracy: 0.9612 - val_loss: 1.8533 - val_accuracy: 0.3028\n",
      "Epoch 26/30\n",
      "776/776 [==============================] - 3s 3ms/step - loss: 0.1057 - accuracy: 0.9612 - val_loss: 1.7874 - val_accuracy: 0.3000\n",
      "Epoch 27/30\n",
      "776/776 [==============================] - 3s 4ms/step - loss: 0.1065 - accuracy: 0.9617 - val_loss: 1.8118 - val_accuracy: 0.2969\n",
      "Epoch 28/30\n",
      "776/776 [==============================] - 3s 4ms/step - loss: 0.1050 - accuracy: 0.9620 - val_loss: 2.1326 - val_accuracy: 0.2975\n",
      "Epoch 29/30\n",
      "776/776 [==============================] - 3s 4ms/step - loss: 0.1048 - accuracy: 0.9617 - val_loss: 1.8780 - val_accuracy: 0.2990\n",
      "Epoch 30/30\n",
      "776/776 [==============================] - 3s 4ms/step - loss: 0.1052 - accuracy: 0.9618 - val_loss: 2.1038 - val_accuracy: 0.2950\n"
     ]
    }
   ],
   "source": [
    "history = model.fit(x_train_ADASYN, y_train_ADASYN, validation_split=0.2, batch_size=32, epochs=30, )"
   ]
  },
  {
   "cell_type": "code",
   "execution_count": 84,
   "metadata": {},
   "outputs": [
    {
     "name": "stdout",
     "output_type": "stream",
     "text": [
      "\n",
      "# Evaluate on test data\n",
      "2/2 [==============================] - 0s 4ms/step - loss: 2.4305 - accuracy: 0.5684\n",
      "test loss, test acc: [2.4304726123809814, 0.568359375]\n"
     ]
    }
   ],
   "source": [
    "print('\\n# Evaluate on test data')\n",
    "results = model.evaluate(x_test_data, y_test_data, batch_size=128)\n",
    "print('test loss, test acc:', results)"
   ]
  },
  {
   "cell_type": "code",
   "execution_count": 85,
   "metadata": {},
   "outputs": [
    {
     "data": {
      "image/png": "[encoded data removed]",
      "text/plain": [
       "<Figure size 432x288 with 1 Axes>"
      ]
     },
     "metadata": {
      "needs_background": "light"
     },
     "output_type": "display_data"
    }
   ],
   "source": [
    "plt.plot(history.history['accuracy'])\n",
    "plt.plot(history.history['val_accuracy'])\n",
    "plt.title('Model accuracy')\n",
    "plt.xlabel('Epoch')\n",
    "plt.ylabel('Accuracy')\n",
    "plt.legend(['Train', 'Validation'], loc='upper left')\n",
    "plt.show()"
   ]
  },
  {
   "cell_type": "code",
   "execution_count": 86,
   "metadata": {},
   "outputs": [
    {
     "data": {
      "image/png": "[encoded data removed]",
      "text/plain": [
       "<Figure size 432x288 with 1 Axes>"
      ]
     },
     "metadata": {
      "needs_background": "light"
     },
     "output_type": "display_data"
    }
   ],
   "source": [
    "# 7 훈련 과정 시각화 (손실)\n",
    "plt.plot(history.history['loss'])\n",
    "plt.plot(history.history['val_loss'])\n",
    "plt.title('Model loss')\n",
    "plt.xlabel('Epoch')\n",
    "plt.ylabel('Loss')\n",
    "plt.legend(['Train', 'Validation'], loc='upper left')\n",
    "plt.show()"
   ]
  },
  {
   "cell_type": "markdown",
   "metadata": {},
   "source": [
    "# Balanced Normal Data Training"
   ]
  },
  {
   "cell_type": "code",
   "execution_count": 87,
   "metadata": {
    "collapsed": true,
    "jupyter": {
     "outputs_hidden": true
    },
    "tags": []
   },
   "outputs": [
    {
     "name": "stdout",
     "output_type": "stream",
     "text": [
      "Epoch 1/150\n",
      "28/28 [==============================] - 0s 6ms/step - loss: 0.4825 - accuracy: 0.8577 - val_loss: 0.2867 - val_accuracy: 0.8647\n",
      "Epoch 2/150\n",
      "28/28 [==============================] - 0s 5ms/step - loss: 0.2833 - accuracy: 0.8823 - val_loss: 0.2370 - val_accuracy: 0.9062\n",
      "Epoch 3/150\n",
      "28/28 [==============================] - 0s 5ms/step - loss: 0.2573 - accuracy: 0.8917 - val_loss: 0.2085 - val_accuracy: 0.9058\n",
      "Epoch 4/150\n",
      "28/28 [==============================] - 0s 5ms/step - loss: 0.2360 - accuracy: 0.9002 - val_loss: 0.2042 - val_accuracy: 0.8987\n",
      "Epoch 5/150\n",
      "28/28 [==============================] - 0s 5ms/step - loss: 0.2286 - accuracy: 0.9069 - val_loss: 0.2051 - val_accuracy: 0.8853\n",
      "Epoch 6/150\n",
      "28/28 [==============================] - 0s 5ms/step - loss: 0.2140 - accuracy: 0.9093 - val_loss: 0.2030 - val_accuracy: 0.9138\n",
      "Epoch 7/150\n",
      "28/28 [==============================] - 0s 5ms/step - loss: 0.2092 - accuracy: 0.9063 - val_loss: 0.2037 - val_accuracy: 0.9125\n",
      "Epoch 8/150\n",
      "28/28 [==============================] - 0s 5ms/step - loss: 0.2039 - accuracy: 0.9119 - val_loss: 0.2049 - val_accuracy: 0.9138\n",
      "Epoch 9/150\n",
      "28/28 [==============================] - 0s 5ms/step - loss: 0.1960 - accuracy: 0.9186 - val_loss: 0.1995 - val_accuracy: 0.8799\n",
      "Epoch 10/150\n",
      "28/28 [==============================] - 0s 5ms/step - loss: 0.2004 - accuracy: 0.9100 - val_loss: 0.1937 - val_accuracy: 0.9183\n",
      "Epoch 11/150\n",
      "28/28 [==============================] - 0s 5ms/step - loss: 0.1970 - accuracy: 0.9171 - val_loss: 0.1944 - val_accuracy: 0.9125\n",
      "Epoch 12/150\n",
      "28/28 [==============================] - 0s 5ms/step - loss: 0.1914 - accuracy: 0.9200 - val_loss: 0.1988 - val_accuracy: 0.9129\n",
      "Epoch 13/150\n",
      "28/28 [==============================] - 0s 5ms/step - loss: 0.1897 - accuracy: 0.9197 - val_loss: 0.1920 - val_accuracy: 0.9161\n",
      "Epoch 14/150\n",
      "28/28 [==============================] - 0s 5ms/step - loss: 0.1841 - accuracy: 0.9208 - val_loss: 0.1978 - val_accuracy: 0.9036\n",
      "Epoch 15/150\n",
      "28/28 [==============================] - 0s 5ms/step - loss: 0.1878 - accuracy: 0.9181 - val_loss: 0.1966 - val_accuracy: 0.9129\n",
      "Epoch 16/150\n",
      "28/28 [==============================] - 0s 5ms/step - loss: 0.1856 - accuracy: 0.9209 - val_loss: 0.1926 - val_accuracy: 0.9161\n",
      "Epoch 17/150\n",
      "28/28 [==============================] - 0s 5ms/step - loss: 0.1826 - accuracy: 0.9221 - val_loss: 0.1925 - val_accuracy: 0.9165\n",
      "Epoch 18/150\n",
      "28/28 [==============================] - 0s 5ms/step - loss: 0.1728 - accuracy: 0.9252 - val_loss: 0.1971 - val_accuracy: 0.9210\n",
      "Epoch 19/150\n",
      "28/28 [==============================] - 0s 5ms/step - loss: 0.1783 - accuracy: 0.9247 - val_loss: 0.2025 - val_accuracy: 0.9205\n",
      "Epoch 20/150\n",
      "28/28 [==============================] - 0s 5ms/step - loss: 0.1704 - accuracy: 0.9248 - val_loss: 0.1910 - val_accuracy: 0.9214\n",
      "Epoch 21/150\n",
      "28/28 [==============================] - 0s 5ms/step - loss: 0.1738 - accuracy: 0.9274 - val_loss: 0.1893 - val_accuracy: 0.9241\n",
      "Epoch 22/150\n",
      "28/28 [==============================] - 0s 5ms/step - loss: 0.1659 - accuracy: 0.9294 - val_loss: 0.1899 - val_accuracy: 0.9201\n",
      "Epoch 23/150\n",
      "28/28 [==============================] - 0s 5ms/step - loss: 0.1715 - accuracy: 0.9257 - val_loss: 0.1893 - val_accuracy: 0.9277\n",
      "Epoch 24/150\n",
      "28/28 [==============================] - 0s 5ms/step - loss: 0.1711 - accuracy: 0.9256 - val_loss: 0.1919 - val_accuracy: 0.9183\n",
      "Epoch 25/150\n",
      "28/28 [==============================] - 0s 5ms/step - loss: 0.1617 - accuracy: 0.9286 - val_loss: 0.1916 - val_accuracy: 0.9254\n",
      "Epoch 26/150\n",
      "28/28 [==============================] - 0s 5ms/step - loss: 0.1650 - accuracy: 0.9296 - val_loss: 0.1937 - val_accuracy: 0.9254\n",
      "Epoch 27/150\n",
      "28/28 [==============================] - 0s 5ms/step - loss: 0.1625 - accuracy: 0.9285 - val_loss: 0.1920 - val_accuracy: 0.9259\n",
      "Epoch 28/150\n",
      "28/28 [==============================] - 0s 5ms/step - loss: 0.1620 - accuracy: 0.9300 - val_loss: 0.1894 - val_accuracy: 0.9237\n"
     ]
    }
   ],
   "source": [
    "history = model.fit(x_train, y_train, validation_split=0.2, batch_size=32, epochs=150, callbacks=[callback])"
   ]
  },
  {
   "cell_type": "code",
   "execution_count": 88,
   "metadata": {},
   "outputs": [
    {
     "name": "stdout",
     "output_type": "stream",
     "text": [
      "\n",
      "# Evaluate on test data\n",
      "2/2 [==============================] - 0s 3ms/step - loss: 0.1113 - accuracy: 0.9461\n",
      "test loss, test acc: [0.1112910807132721, 0.946093738079071]\n"
     ]
    }
   ],
   "source": [
    "print('\\n# Evaluate on test data')\n",
    "results = model.evaluate(x_test_data, y_test_data, batch_size=128)\n",
    "print('test loss, test acc:', results)"
   ]
  },
  {
   "cell_type": "code",
   "execution_count": 89,
   "metadata": {},
   "outputs": [
    {
     "data": {
      "image/png": "[encoded data removed]",
      "text/plain": [
       "<Figure size 432x288 with 1 Axes>"
      ]
     },
     "metadata": {
      "needs_background": "light"
     },
     "output_type": "display_data"
    }
   ],
   "source": [
    "plt.plot(history.history['accuracy'])\n",
    "plt.plot(history.history['val_accuracy'])\n",
    "plt.title('Model accuracy')\n",
    "plt.xlabel('Epoch')\n",
    "plt.ylabel('Accuracy')\n",
    "plt.legend(['Train', 'Validation'], loc='upper left')\n",
    "plt.show()"
   ]
  },
  {
   "cell_type": "code",
   "execution_count": 90,
   "metadata": {},
   "outputs": [
    {
     "data": {
      "image/png": "[encoded data removed]",
      "text/plain": [
       "<Figure size 432x288 with 1 Axes>"
      ]
     },
     "metadata": {
      "needs_background": "light"
     },
     "output_type": "display_data"
    }
   ],
   "source": [
    "# 7 훈련 과정 시각화 (손실)\n",
    "plt.plot(history.history['loss'])\n",
    "plt.plot(history.history['val_loss'])\n",
    "plt.title('Model loss')\n",
    "plt.xlabel('Epoch')\n",
    "plt.ylabel('Loss')\n",
    "plt.legend(['Train', 'Validation'], loc='upper left')\n",
    "plt.show()"
   ]
  },
  {
   "cell_type": "code",
   "execution_count": 91,
   "metadata": {
    "collapsed": true,
    "jupyter": {
     "outputs_hidden": true
    },
    "tags": []
   },
   "outputs": [
    {
     "data": {
      "text/plain": [
       "{'loss': [0.48251816630363464,\n",
       "  0.2833097279071808,\n",
       "  0.25728869438171387,\n",
       "  0.23599697649478912,\n",
       "  0.22859448194503784,\n",
       "  0.21401438117027283,\n",
       "  0.20924776792526245,\n",
       "  0.20385275781154633,\n",
       "  0.19599954783916473,\n",
       "  0.20038403570652008,\n",
       "  0.19703322649002075,\n",
       "  0.1913938969373703,\n",
       "  0.18965663015842438,\n",
       "  0.1841409057378769,\n",
       "  0.18775397539138794,\n",
       "  0.18560579419136047,\n",
       "  0.18257194757461548,\n",
       "  0.17280662059783936,\n",
       "  0.17825213074684143,\n",
       "  0.17041563987731934,\n",
       "  0.1738174855709076,\n",
       "  0.16591444611549377,\n",
       "  0.17151395976543427,\n",
       "  0.17110618948936462,\n",
       "  0.16171075403690338,\n",
       "  0.1650131493806839,\n",
       "  0.16248439252376556,\n",
       "  0.162000834941864],\n",
       " 'accuracy': [0.8577182292938232,\n",
       "  0.882326602935791,\n",
       "  0.8917226791381836,\n",
       "  0.9002236723899841,\n",
       "  0.9069350957870483,\n",
       "  0.9092841148376465,\n",
       "  0.906264066696167,\n",
       "  0.9118568897247314,\n",
       "  0.9185682535171509,\n",
       "  0.9099552631378174,\n",
       "  0.9171141386032104,\n",
       "  0.9200224280357361,\n",
       "  0.9196867942810059,\n",
       "  0.9208053946495056,\n",
       "  0.918120801448822,\n",
       "  0.920917272567749,\n",
       "  0.9221477508544922,\n",
       "  0.9251677393913269,\n",
       "  0.924720287322998,\n",
       "  0.9248321056365967,\n",
       "  0.9274049401283264,\n",
       "  0.9294182062149048,\n",
       "  0.9257269501686096,\n",
       "  0.9256151914596558,\n",
       "  0.9286353588104248,\n",
       "  0.9296420216560364,\n",
       "  0.9285235404968262,\n",
       "  0.9299776554107666],\n",
       " 'val_loss': [0.2866846024990082,\n",
       "  0.23703305423259735,\n",
       "  0.20852778851985931,\n",
       "  0.20417113602161407,\n",
       "  0.20511259138584137,\n",
       "  0.20299801230430603,\n",
       "  0.20374248921871185,\n",
       "  0.2048908919095993,\n",
       "  0.19949106872081757,\n",
       "  0.1937425434589386,\n",
       "  0.19441445171833038,\n",
       "  0.19880224764347076,\n",
       "  0.19199509918689728,\n",
       "  0.19775810837745667,\n",
       "  0.19659888744354248,\n",
       "  0.19255483150482178,\n",
       "  0.1924816519021988,\n",
       "  0.19714638590812683,\n",
       "  0.20251484215259552,\n",
       "  0.19098174571990967,\n",
       "  0.18932685256004333,\n",
       "  0.1898859292268753,\n",
       "  0.18933498859405518,\n",
       "  0.1919177919626236,\n",
       "  0.19160790741443634,\n",
       "  0.1937490552663803,\n",
       "  0.1920137256383896,\n",
       "  0.1893967241048813],\n",
       " 'val_accuracy': [0.8647321462631226,\n",
       "  0.90625,\n",
       "  0.9058035612106323,\n",
       "  0.8986607193946838,\n",
       "  0.8852677941322327,\n",
       "  0.9138392806053162,\n",
       "  0.9124999642372131,\n",
       "  0.9138392806053162,\n",
       "  0.8799106478691101,\n",
       "  0.9183035492897034,\n",
       "  0.9124999642372131,\n",
       "  0.9129465222358704,\n",
       "  0.9160714149475098,\n",
       "  0.9035714268684387,\n",
       "  0.9129464030265808,\n",
       "  0.9160714745521545,\n",
       "  0.9165179133415222,\n",
       "  0.9209820628166199,\n",
       "  0.920535683631897,\n",
       "  0.9214285612106323,\n",
       "  0.9241072535514832,\n",
       "  0.9200893044471741,\n",
       "  0.9276785850524902,\n",
       "  0.9183035492897034,\n",
       "  0.9254464507102966,\n",
       "  0.9254463911056519,\n",
       "  0.9258928894996643,\n",
       "  0.9236607551574707]}"
      ]
     },
     "execution_count": 91,
     "metadata": {},
     "output_type": "execute_result"
    }
   ],
   "source": [
    "history.history"
   ]
  },
  {
   "cell_type": "markdown",
   "metadata": {},
   "source": [
    "# Imbalanced Normal Data Training"
   ]
  },
  {
   "cell_type": "code",
   "execution_count": 98,
   "metadata": {
    "collapsed": true,
    "jupyter": {
     "outputs_hidden": true
    },
    "tags": []
   },
   "outputs": [
    {
     "name": "stdout",
     "output_type": "stream",
     "text": [
      "Epoch 1/150\n",
      "327/327 [==============================] - 1s 4ms/step - loss: 0.1041 - accuracy: 0.9616 - val_loss: 0.0760 - val_accuracy: 0.9728\n",
      "Epoch 2/150\n",
      "327/327 [==============================] - 1s 4ms/step - loss: 0.0899 - accuracy: 0.9660 - val_loss: 0.0727 - val_accuracy: 0.9728\n",
      "Epoch 3/150\n",
      "327/327 [==============================] - 1s 4ms/step - loss: 0.0857 - accuracy: 0.9683 - val_loss: 0.0718 - val_accuracy: 0.9735\n",
      "Epoch 4/150\n",
      "327/327 [==============================] - 1s 4ms/step - loss: 0.0842 - accuracy: 0.9677 - val_loss: 0.0729 - val_accuracy: 0.9709\n",
      "Epoch 5/150\n",
      "327/327 [==============================] - 1s 3ms/step - loss: 0.0836 - accuracy: 0.9684 - val_loss: 0.0715 - val_accuracy: 0.9734\n",
      "Epoch 6/150\n",
      "327/327 [==============================] - 1s 4ms/step - loss: 0.0802 - accuracy: 0.9698 - val_loss: 0.0732 - val_accuracy: 0.9707\n",
      "Epoch 7/150\n",
      "327/327 [==============================] - 1s 4ms/step - loss: 0.0799 - accuracy: 0.9694 - val_loss: 0.0713 - val_accuracy: 0.9734\n",
      "Epoch 8/150\n",
      "327/327 [==============================] - 1s 4ms/step - loss: 0.0795 - accuracy: 0.9690 - val_loss: 0.0753 - val_accuracy: 0.9712\n",
      "Epoch 9/150\n",
      "327/327 [==============================] - 1s 4ms/step - loss: 0.0774 - accuracy: 0.9708 - val_loss: 0.0747 - val_accuracy: 0.9713\n",
      "Epoch 10/150\n",
      "327/327 [==============================] - 1s 4ms/step - loss: 0.0777 - accuracy: 0.9701 - val_loss: 0.0749 - val_accuracy: 0.9718\n",
      "Epoch 11/150\n",
      "327/327 [==============================] - 1s 3ms/step - loss: 0.0771 - accuracy: 0.9707 - val_loss: 0.0753 - val_accuracy: 0.9720\n",
      "Epoch 12/150\n",
      "327/327 [==============================] - 1s 4ms/step - loss: 0.0778 - accuracy: 0.9705 - val_loss: 0.0766 - val_accuracy: 0.9724\n",
      "Epoch 13/150\n",
      "327/327 [==============================] - 1s 4ms/step - loss: 0.0754 - accuracy: 0.9713 - val_loss: 0.0749 - val_accuracy: 0.9711\n",
      "Epoch 14/150\n",
      "327/327 [==============================] - 1s 4ms/step - loss: 0.0752 - accuracy: 0.9717 - val_loss: 0.0744 - val_accuracy: 0.9713\n",
      "Epoch 15/150\n",
      "327/327 [==============================] - 1s 4ms/step - loss: 0.0758 - accuracy: 0.9716 - val_loss: 0.0822 - val_accuracy: 0.9698\n",
      "Epoch 16/150\n",
      "327/327 [==============================] - 1s 4ms/step - loss: 0.0756 - accuracy: 0.9733 - val_loss: 0.0742 - val_accuracy: 0.9718\n",
      "Epoch 17/150\n",
      "327/327 [==============================] - 1s 4ms/step - loss: 0.0725 - accuracy: 0.9735 - val_loss: 0.0770 - val_accuracy: 0.9714\n",
      "Epoch 18/150\n",
      "327/327 [==============================] - 1s 4ms/step - loss: 0.0722 - accuracy: 0.9735 - val_loss: 0.0799 - val_accuracy: 0.9720\n",
      "Epoch 19/150\n",
      "327/327 [==============================] - 1s 4ms/step - loss: 0.0738 - accuracy: 0.9736 - val_loss: 0.0824 - val_accuracy: 0.9709\n",
      "Epoch 20/150\n",
      "327/327 [==============================] - 1s 4ms/step - loss: 0.0719 - accuracy: 0.9732 - val_loss: 0.0847 - val_accuracy: 0.9711\n",
      "Epoch 21/150\n",
      "327/327 [==============================] - 1s 4ms/step - loss: 0.0711 - accuracy: 0.9738 - val_loss: 0.0808 - val_accuracy: 0.9696\n",
      "Epoch 22/150\n",
      "327/327 [==============================] - 1s 4ms/step - loss: 0.0718 - accuracy: 0.9738 - val_loss: 0.0853 - val_accuracy: 0.9695\n",
      "Epoch 23/150\n",
      "327/327 [==============================] - 1s 4ms/step - loss: 0.0711 - accuracy: 0.9735 - val_loss: 0.0827 - val_accuracy: 0.9714\n",
      "Epoch 24/150\n",
      "327/327 [==============================] - 1s 4ms/step - loss: 0.0714 - accuracy: 0.9734 - val_loss: 0.0824 - val_accuracy: 0.9710\n",
      "Epoch 25/150\n",
      "327/327 [==============================] - 1s 4ms/step - loss: 0.0697 - accuracy: 0.9734 - val_loss: 0.0823 - val_accuracy: 0.9699\n",
      "Epoch 26/150\n",
      "327/327 [==============================] - 1s 4ms/step - loss: 0.0715 - accuracy: 0.9738 - val_loss: 0.0837 - val_accuracy: 0.9698\n",
      "Epoch 27/150\n",
      "327/327 [==============================] - 1s 4ms/step - loss: 0.0706 - accuracy: 0.9740 - val_loss: 0.0806 - val_accuracy: 0.9711\n",
      "Epoch 28/150\n",
      "327/327 [==============================] - 1s 4ms/step - loss: 0.0696 - accuracy: 0.9749 - val_loss: 0.0787 - val_accuracy: 0.9719\n",
      "Epoch 29/150\n",
      "327/327 [==============================] - 1s 4ms/step - loss: 0.0695 - accuracy: 0.9741 - val_loss: 0.0886 - val_accuracy: 0.9699\n",
      "Epoch 30/150\n",
      "327/327 [==============================] - 1s 4ms/step - loss: 0.0703 - accuracy: 0.9737 - val_loss: 0.0878 - val_accuracy: 0.9693\n",
      "Epoch 31/150\n",
      "327/327 [==============================] - 1s 4ms/step - loss: 0.0679 - accuracy: 0.9749 - val_loss: 0.0838 - val_accuracy: 0.9706\n",
      "Epoch 32/150\n",
      "327/327 [==============================] - 1s 4ms/step - loss: 0.0695 - accuracy: 0.9743 - val_loss: 0.0885 - val_accuracy: 0.9695\n",
      "Epoch 33/150\n",
      "327/327 [==============================] - 1s 4ms/step - loss: 0.0685 - accuracy: 0.9752 - val_loss: 0.0881 - val_accuracy: 0.9714\n",
      "Epoch 34/150\n",
      "327/327 [==============================] - 1s 4ms/step - loss: 0.0686 - accuracy: 0.9751 - val_loss: 0.0860 - val_accuracy: 0.9708\n"
     ]
    }
   ],
   "source": [
    "history = model.fit(x_train_, y_train_, validation_split=0.2, batch_size=32, epochs=150, callbacks=[callback])"
   ]
  },
  {
   "cell_type": "code",
   "execution_count": 99,
   "metadata": {},
   "outputs": [
    {
     "name": "stdout",
     "output_type": "stream",
     "text": [
      "\n",
      "# Evaluate on test data\n",
      "26/26 [==============================] - 0s 2ms/step - loss: 0.0792 - accuracy: 0.9716\n",
      "test loss, test acc: [0.0791737511754036, 0.9715818762779236]\n"
     ]
    }
   ],
   "source": [
    "print('\\n# Evaluate on test data')\n",
    "results = model.evaluate(x_test_, y_test_, batch_size=128)\n",
    "print('test loss, test acc:', results)"
   ]
  },
  {
   "cell_type": "code",
   "execution_count": 100,
   "metadata": {},
   "outputs": [
    {
     "data": {
      "image/png": "[encoded data removed]",
      "text/plain": [
       "<Figure size 432x288 with 1 Axes>"
      ]
     },
     "metadata": {
      "needs_background": "light"
     },
     "output_type": "display_data"
    }
   ],
   "source": [
    "plt.plot(history.history['accuracy'])\n",
    "plt.plot(history.history['val_accuracy'])\n",
    "plt.title('Model accuracy')\n",
    "plt.xlabel('Epoch')\n",
    "plt.ylabel('Accuracy')\n",
    "plt.legend(['Train', 'Validation'], loc='upper left')\n",
    "plt.show()"
   ]
  },
  {
   "cell_type": "code",
   "execution_count": 101,
   "metadata": {},
   "outputs": [
    {
     "data": {
      "image/png": "[encoded data removed]",
      "text/plain": [
       "<Figure size 432x288 with 1 Axes>"
      ]
     },
     "metadata": {
      "needs_background": "light"
     },
     "output_type": "display_data"
    }
   ],
   "source": [
    "# 7 훈련 과정 시각화 (손실)\n",
    "plt.plot(history.history['loss'])\n",
    "plt.plot(history.history['val_loss'])\n",
    "plt.title('Model loss')\n",
    "plt.xlabel('Epoch')\n",
    "plt.ylabel('Loss')\n",
    "plt.legend(['Train', 'Validation'], loc='upper left')\n",
    "plt.show()"
   ]
  },
  {
   "cell_type": "code",
   "execution_count": null,
   "metadata": {},
   "outputs": [],
   "source": []
  }
 ],
 "metadata": {
  "kernelspec": {
   "display_name": "Environment (conda_tf2.4)",
   "language": "python",
   "name": "conda_tf2.4"
  },
  "language_info": {
   "codemirror_mode": {
    "name": "ipython",
    "version": 3
   },
   "file_extension": ".py",
   "mimetype": "text/x-python",
   "name": "python",
   "nbconvert_exporter": "python",
   "pygments_lexer": "ipython3",
   "version": "3.8.8"
  }
 },
 "nbformat": 4,
 "nbformat_minor": 4
}
